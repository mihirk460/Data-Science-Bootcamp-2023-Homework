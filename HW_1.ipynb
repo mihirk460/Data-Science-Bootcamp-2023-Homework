{
  "nbformat": 4,
  "nbformat_minor": 0,
  "metadata": {
    "colab": {
      "provenance": []
    },
    "kernelspec": {
      "name": "python3",
      "display_name": "Python 3"
    },
    "language_info": {
      "name": "python"
    }
  },
  "cells": [
    {
      "cell_type": "markdown",
      "source": [
        "Mihir Kshirsagar (msk9917)"
      ],
      "metadata": {
        "id": "C3gsVTg5hQUF"
      }
    },
    {
      "cell_type": "markdown",
      "source": [
        "Display Fibonacci Series upto 10 terms"
      ],
      "metadata": {
        "id": "9_JlAMqkn5YW"
      }
    },
    {
      "cell_type": "code",
      "execution_count": null,
      "metadata": {
        "colab": {
          "base_uri": "https://localhost:8080/"
        },
        "id": "-omWCAaFnUX9",
        "outputId": "7df81319-78e7-48d4-9904-05fbae034b7b"
      },
      "outputs": [
        {
          "output_type": "stream",
          "name": "stdout",
          "text": [
            "[0, 1, 1, 2, 3, 5, 8, 13, 21, 34]\n"
          ]
        }
      ],
      "source": [
        "n = 10\n",
        "sum = 0\n",
        "i = 0\n",
        "fiblist = [0,1]\n",
        "while i < (n-2):\n",
        "  sum = fiblist[i] + fiblist[i+1]\n",
        "  fiblist.append(sum)\n",
        "  i+=1\n",
        "print (fiblist)"
      ]
    },
    {
      "cell_type": "markdown",
      "source": [
        "Display numbers at the odd indices of a list"
      ],
      "metadata": {
        "id": "w_30PWDHpWcC"
      }
    },
    {
      "cell_type": "code",
      "source": [
        "i = 1\n",
        "list = [\"h\", \"e\", \"l\", \"l\", \"o\", \"t\", \"h\", \"e\", \"r\", \"e\"]\n",
        "while i < len(list):\n",
        "  print (list[i], end = \" \")\n",
        "  i += 2"
      ],
      "metadata": {
        "colab": {
          "base_uri": "https://localhost:8080/"
        },
        "id": "MTTtG4pEoVxx",
        "outputId": "a5b160ff-f79b-47bc-ccff-d8ff445f70ae"
      },
      "execution_count": 91,
      "outputs": [
        {
          "output_type": "stream",
          "name": "stdout",
          "text": [
            "e l t e e "
          ]
        }
      ]
    },
    {
      "cell_type": "markdown",
      "source": [
        "Print a list in reverse order"
      ],
      "metadata": {
        "id": "Fp9EfSNeBOs7"
      }
    },
    {
      "cell_type": "code",
      "source": [
        "i=0\n",
        "list = [\"h\", \"e\", \"l\", \"l\", \"o\", \"t\", \"h\", \"e\", \"r\", \"e\"]\n",
        "print (list[::-1])"
      ],
      "metadata": {
        "colab": {
          "base_uri": "https://localhost:8080/"
        },
        "id": "D00lkqcNBC-w",
        "outputId": "24fe92e2-1a5c-43d7-c18b-54f347a27daa"
      },
      "execution_count": null,
      "outputs": [
        {
          "output_type": "stream",
          "name": "stdout",
          "text": [
            "['e', 'r', 'e', 'h', 't', 'o', 'l', 'l', 'e', 'h']\n"
          ]
        }
      ]
    },
    {
      "cell_type": "markdown",
      "source": [
        "Your task is to count the number of different words in this text"
      ],
      "metadata": {
        "id": "pTVXuZSbB2QM"
      }
    },
    {
      "cell_type": "code",
      "source": [
        "string = \"\"\"\n",
        "ChatGPT has created this text to provide tips on creating interesting paragraphs.\n",
        "First, start with a clear topic sentence that introduces the main idea.\n",
        "Then, support the topic sentence with specific details, examples, and evidence.\n",
        "Vary the sentence length and structure to keep the reader engaged.\n",
        "Finally, end with a strong concluding sentence that summarizes the main points.\n",
        "Remember, practice makes perfect!\n",
        "\"\"\"\n",
        "def remove_punctuation(string):\n",
        "    punctuation_chars = \".,!?;:-\\\"'()[]{}\"\n",
        "    for char in punctuation_chars:\n",
        "        string = string.replace(char, \"\")\n",
        "    return string\n",
        "string = remove_punctuation(string)\n",
        "words = string.split(\" \")\n",
        "words_lower = [word.lower() for word in words]\n",
        "unique_words = set(words_lower)\n",
        "word_count = len(unique_words)\n",
        "print(word_count)"
      ],
      "metadata": {
        "colab": {
          "base_uri": "https://localhost:8080/"
        },
        "id": "JeYGjHxMBwAV",
        "outputId": "9e15c002-6a19-459f-c193-f11c275d41df"
      },
      "execution_count": 30,
      "outputs": [
        {
          "output_type": "stream",
          "name": "stdout",
          "text": [
            "47\n"
          ]
        }
      ]
    },
    {
      "cell_type": "markdown",
      "source": [
        "Write a function that takes a word as an argument and returns the number of vowels in the word"
      ],
      "metadata": {
        "id": "58XEgxqUEF-h"
      }
    },
    {
      "cell_type": "code",
      "source": [
        "vowels = \"AEIOUaeiou\"\n",
        "vowel = []\n",
        "for i in vowels:\n",
        "  vowel.append(i)\n",
        "words = \"hello\"\n",
        "word = []\n",
        "for i in words:\n",
        "  word.append(i)\n",
        "def counting_vowels(word):\n",
        "  vowelcount = 0\n",
        "  for char in word:\n",
        "    for v in vowel:\n",
        "      if v==char:\n",
        "        vowelcount += 1\n",
        "  return vowelcount\n",
        "result = counting_vowels(word)\n",
        "print(result)"
      ],
      "metadata": {
        "colab": {
          "base_uri": "https://localhost:8080/"
        },
        "id": "uJfJ2Pk0CH-h",
        "outputId": "9602ec39-2499-4dd2-c131-c32a1666b7f5"
      },
      "execution_count": 3,
      "outputs": [
        {
          "output_type": "stream",
          "name": "stdout",
          "text": [
            "2\n"
          ]
        }
      ]
    },
    {
      "cell_type": "markdown",
      "source": [
        "Iterate through the following list of animals and print each one in all caps."
      ],
      "metadata": {
        "id": "aljtetCV7YMH"
      }
    },
    {
      "cell_type": "code",
      "source": [
        "animals=['tiger', 'elephant', 'monkey', 'zebra', 'panther']\n",
        "animalsuppercase = []\n",
        "for animal in animals:\n",
        "  animalsuppercase.append(animal.upper())\n",
        "print(animalsuppercase)"
      ],
      "metadata": {
        "colab": {
          "base_uri": "https://localhost:8080/"
        },
        "id": "IJKPJC-GXv59",
        "outputId": "81e4220c-0315-4f88-a08b-e7ca981efe66"
      },
      "execution_count": 5,
      "outputs": [
        {
          "output_type": "stream",
          "name": "stdout",
          "text": [
            "['TIGER', 'ELEPHANT', 'MONKEY', 'ZEBRA', 'PANTHER']\n"
          ]
        }
      ]
    },
    {
      "cell_type": "markdown",
      "source": [
        "Iterate from 1 to 15, printing whether the number is odd or even"
      ],
      "metadata": {
        "id": "Y8IYvrM39YPV"
      }
    },
    {
      "cell_type": "code",
      "source": [
        "i = 1\n",
        "n = 15\n",
        "list = []\n",
        "for i in range(1,n+1,1):\n",
        "  if i%2 == 0:\n",
        "    print(\"number {} is even\".format(i))\n",
        "  else:\n",
        "    print(\"number {} is odd\".format(i))\n"
      ],
      "metadata": {
        "colab": {
          "base_uri": "https://localhost:8080/"
        },
        "id": "VM0bOAJ58vcO",
        "outputId": "9b14d704-0f31-4522-dc15-bead45983d11"
      },
      "execution_count": 12,
      "outputs": [
        {
          "output_type": "stream",
          "name": "stdout",
          "text": [
            "number 1 is odd\n",
            "number 2 is even\n",
            "number 3 is odd\n",
            "number 4 is even\n",
            "number 5 is odd\n",
            "number 6 is even\n",
            "number 7 is odd\n",
            "number 8 is even\n",
            "number 9 is odd\n",
            "number 10 is even\n",
            "number 11 is odd\n",
            "number 12 is even\n",
            "number 13 is odd\n",
            "number 14 is even\n",
            "number 15 is odd\n"
          ]
        }
      ]
    },
    {
      "cell_type": "markdown",
      "source": [
        "Take two integers as input from user and return the sum"
      ],
      "metadata": {
        "id": "fzHhOXfuDsr8"
      }
    },
    {
      "cell_type": "code",
      "source": [
        "num1 = int(input(\"enter first number \"))\n",
        "num2 = int(input(\"enter second number \"))\n",
        "sum = num1 + num2\n",
        "print(sum)"
      ],
      "metadata": {
        "colab": {
          "base_uri": "https://localhost:8080/"
        },
        "id": "mc6Dbt29DGvX",
        "outputId": "cb34ca05-647b-4181-f7fc-ef803d2e7d69"
      },
      "execution_count": 15,
      "outputs": [
        {
          "output_type": "stream",
          "name": "stdout",
          "text": [
            "enter first number 34\n",
            "enter second number 78\n",
            "112\n"
          ]
        }
      ]
    }
  ]
}
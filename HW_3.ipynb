{
  "nbformat": 4,
  "nbformat_minor": 0,
  "metadata": {
    "colab": {
      "provenance": []
    },
    "kernelspec": {
      "name": "python3",
      "display_name": "Python 3"
    },
    "language_info": {
      "name": "python"
    }
  },
  "cells": [
    {
      "cell_type": "markdown",
      "source": [
        "Mihir Kshirsagar\n",
        "\n",
        "msk9917\n",
        "\n",
        "N16144406"
      ],
      "metadata": {
        "id": "gea_fSriUrmH"
      }
    },
    {
      "cell_type": "markdown",
      "source": [
        "# NUMPY"
      ],
      "metadata": {
        "id": "nEaSUtr-vbVs"
      }
    },
    {
      "cell_type": "markdown",
      "source": [
        "1. Define two custom numpy arrays, say A and B. Generate two new numpy arrays by stacking A and B vertically and horizontally"
      ],
      "metadata": {
        "id": "au8jmGrcX8YT"
      }
    },
    {
      "cell_type": "code",
      "execution_count": 1,
      "metadata": {
        "colab": {
          "base_uri": "https://localhost:8080/"
        },
        "id": "EaJQ0rv_Up-1",
        "outputId": "4610b65a-a5e4-44db-e7cc-97199dbe6b0b"
      },
      "outputs": [
        {
          "output_type": "stream",
          "name": "stdout",
          "text": [
            "Array A:\n",
            "[1 2 3]\n",
            "Array B:\n",
            "[4 5 6]\n",
            "Vertically stacked arrays:\n",
            "[[1 2 3]\n",
            " [4 5 6]]\n",
            "Horizontally stacked arrays:\n",
            "[1 2 3 4 5 6]\n"
          ]
        }
      ],
      "source": [
        "import numpy as np\n",
        "\n",
        "A = np.array([1, 2, 3])\n",
        "B = np.array([4, 5, 6])\n",
        "\n",
        "vertical_stack = np.vstack((A, B))\n",
        "\n",
        "horizontal_stack = np.hstack((A, B))\n",
        "\n",
        "print(\"Array A:\")\n",
        "print(A)\n",
        "\n",
        "print(\"Array B:\")\n",
        "print(B)\n",
        "\n",
        "print(\"Vertically stacked arrays:\")\n",
        "print(vertical_stack)\n",
        "\n",
        "print(\"Horizontally stacked arrays:\")\n",
        "print(horizontal_stack)\n"
      ]
    },
    {
      "cell_type": "markdown",
      "source": [
        "2. Find common elements between A and B"
      ],
      "metadata": {
        "id": "_nMElXMgr1xn"
      }
    },
    {
      "cell_type": "code",
      "source": [
        "A = np.array([1, 2, 3, 4, 5])\n",
        "B = np.array([3, 4, 5, 6, 7])\n",
        "\n",
        "common_elements = np.intersect1d(A, B)\n",
        "\n",
        "print(\"Common elements between A and B:\")\n",
        "print(common_elements)\n"
      ],
      "metadata": {
        "colab": {
          "base_uri": "https://localhost:8080/"
        },
        "id": "j9DaG6TdsXGV",
        "outputId": "57f28842-17bc-4b43-cd7f-41e23452ddee"
      },
      "execution_count": 2,
      "outputs": [
        {
          "output_type": "stream",
          "name": "stdout",
          "text": [
            "Common elements between A and B:\n",
            "[3 4 5]\n"
          ]
        }
      ]
    },
    {
      "cell_type": "markdown",
      "source": [
        "3. Extract all numbers from A which are within a specific range. eg between 5 and 10"
      ],
      "metadata": {
        "id": "qpqbuyijr6uM"
      }
    },
    {
      "cell_type": "code",
      "source": [
        "A = np.array([2, 6, 8, 4, 10, 12, 7, 9])\n",
        "\n",
        "min_range = 5\n",
        "max_range = 10\n",
        "\n",
        "filtered_array = A[(A >= min_range) & (A <= max_range)]\n",
        "\n",
        "print(\"Numbers within the range [{}, {}]: \".format(min_range, max_range))\n",
        "print(filtered_array)\n"
      ],
      "metadata": {
        "colab": {
          "base_uri": "https://localhost:8080/"
        },
        "id": "-o8zcfmTtjD0",
        "outputId": "9e4e5fcb-f164-4d8a-b736-3963df6adcec"
      },
      "execution_count": 3,
      "outputs": [
        {
          "output_type": "stream",
          "name": "stdout",
          "text": [
            "Numbers within the range [5, 10]: \n",
            "[ 6  8 10  7  9]\n"
          ]
        }
      ]
    },
    {
      "cell_type": "markdown",
      "source": [
        "4. Filter the rows of iris_2d that has petallength (3rd column) > 1.5 and sepallength (1st column) < 5.0"
      ],
      "metadata": {
        "id": "hXo2q1hVsQHN"
      }
    },
    {
      "cell_type": "code",
      "source": [
        "url = 'https://archive.ics.uci.edu/ml/machine-learning-databases/iris/iris.data'\n",
        "iris_2d = np.genfromtxt(url, delimiter=',', dtype='float', usecols=[0, 1, 2, 3])\n",
        "\n",
        "condition = (iris_2d[:, 2] > 1.5) & (iris_2d[:, 0] < 5.0)\n",
        "\n",
        "filtered_rows = iris_2d[condition]\n",
        "\n",
        "print(\"Filtered rows of iris_2d:\")\n",
        "print(filtered_rows)\n"
      ],
      "metadata": {
        "colab": {
          "base_uri": "https://localhost:8080/"
        },
        "id": "ht5WGFz1u1iu",
        "outputId": "959d13b1-49c1-4b9e-f210-5fcc345b6fdf"
      },
      "execution_count": 4,
      "outputs": [
        {
          "output_type": "stream",
          "name": "stdout",
          "text": [
            "Filtered rows of iris_2d:\n",
            "[[4.8 3.4 1.6 0.2]\n",
            " [4.8 3.4 1.9 0.2]\n",
            " [4.7 3.2 1.6 0.2]\n",
            " [4.8 3.1 1.6 0.2]\n",
            " [4.9 2.4 3.3 1. ]\n",
            " [4.9 2.5 4.5 1.7]]\n"
          ]
        }
      ]
    },
    {
      "cell_type": "markdown",
      "source": [
        "# PANDAS"
      ],
      "metadata": {
        "id": "BONe79mIvfzn"
      }
    },
    {
      "cell_type": "markdown",
      "source": [
        "1. From df filter the 'Manufacturer', 'Model' and 'Type' for every 20th row starting from 1st (row 0) df=pd.read_csv('https://raw.githubusercontent.com/selva86/datasets/master/Cars93_miss.csv')"
      ],
      "metadata": {
        "id": "g-T_kMLtvmQ7"
      }
    },
    {
      "cell_type": "code",
      "source": [
        "import pandas as pd\n",
        "\n",
        "df = pd.read_csv('https://raw.githubusercontent.com/selva86/datasets/master/Cars93_miss.csv')\n",
        "\n",
        "filtered_data = df.iloc[::20, :][['Manufacturer', 'Model', 'Type']]\n",
        "\n",
        "filtered_data.reset_index(drop=True, inplace=True)\n",
        "\n",
        "print(filtered_data)\n"
      ],
      "metadata": {
        "colab": {
          "base_uri": "https://localhost:8080/"
        },
        "id": "nOmHn8r1wxBh",
        "outputId": "6b34aecd-4075-49bb-e707-7a07b164c030"
      },
      "execution_count": 5,
      "outputs": [
        {
          "output_type": "stream",
          "name": "stdout",
          "text": [
            "  Manufacturer    Model     Type\n",
            "0        Acura  Integra    Small\n",
            "1     Chrysler  LeBaron  Compact\n",
            "2        Honda  Prelude   Sporty\n",
            "3      Mercury   Cougar  Midsize\n",
            "4       Subaru   Loyale    Small\n"
          ]
        }
      ]
    },
    {
      "cell_type": "markdown",
      "source": [
        "2. Replace missing values in Min.Price and Max.Price columns with their respective mean. df=pd.read_csv('https://raw.githubusercontent.com/selva86/datasets/master/Cars93_miss.csv')"
      ],
      "metadata": {
        "id": "HetI5Qa3wQI3"
      }
    },
    {
      "cell_type": "code",
      "source": [
        "df = pd.read_csv('https://raw.githubusercontent.com/selva86/datasets/master/Cars93_miss.csv')\n",
        "\n",
        "min_price_mean = df['Min.Price'].mean()\n",
        "max_price_mean = df['Max.Price'].mean()\n",
        "\n",
        "df['Min.Price'].fillna(min_price_mean, inplace=True)\n",
        "df['Max.Price'].fillna(max_price_mean, inplace=True)\n",
        "\n",
        "print(df)\n"
      ],
      "metadata": {
        "colab": {
          "base_uri": "https://localhost:8080/"
        },
        "id": "AGgkFz67wxld",
        "outputId": "b4a3d666-a1a8-4566-cecd-0abda4ed9e36"
      },
      "execution_count": 6,
      "outputs": [
        {
          "output_type": "stream",
          "name": "stdout",
          "text": [
            "   Manufacturer    Model     Type  Min.Price  Price  Max.Price  MPG.city  \\\n",
            "0         Acura  Integra    Small  12.900000   15.9  18.800000      25.0   \n",
            "1           NaN   Legend  Midsize  29.200000   33.9  38.700000      18.0   \n",
            "2          Audi       90  Compact  25.900000   29.1  32.300000      20.0   \n",
            "3          Audi      100  Midsize  17.118605   37.7  44.600000      19.0   \n",
            "4           BMW     535i  Midsize  17.118605   30.0  21.459091      22.0   \n",
            "..          ...      ...      ...        ...    ...        ...       ...   \n",
            "88   Volkswagen  Eurovan      Van  16.600000   19.7  22.700000      17.0   \n",
            "89   Volkswagen   Passat  Compact  17.600000   20.0  22.400000      21.0   \n",
            "90   Volkswagen  Corrado   Sporty  22.900000   23.3  23.700000      18.0   \n",
            "91        Volvo      240  Compact  21.800000   22.7  23.500000      21.0   \n",
            "92          NaN      850  Midsize  24.800000   26.7  28.500000      20.0   \n",
            "\n",
            "    MPG.highway             AirBags DriveTrain  ... Passengers  Length  \\\n",
            "0          31.0                None      Front  ...        5.0   177.0   \n",
            "1          25.0  Driver & Passenger      Front  ...        5.0   195.0   \n",
            "2          26.0         Driver only      Front  ...        5.0   180.0   \n",
            "3          26.0  Driver & Passenger        NaN  ...        6.0   193.0   \n",
            "4          30.0                 NaN       Rear  ...        4.0   186.0   \n",
            "..          ...                 ...        ...  ...        ...     ...   \n",
            "88         21.0                None      Front  ...        7.0   187.0   \n",
            "89         30.0                None      Front  ...        5.0   180.0   \n",
            "90         25.0                None      Front  ...        4.0   159.0   \n",
            "91         28.0         Driver only       Rear  ...        5.0   190.0   \n",
            "92         28.0  Driver & Passenger      Front  ...        5.0   184.0   \n",
            "\n",
            "    Wheelbase  Width  Turn.circle Rear.seat.room  Luggage.room  Weight  \\\n",
            "0       102.0   68.0         37.0           26.5           NaN  2705.0   \n",
            "1       115.0   71.0         38.0           30.0          15.0  3560.0   \n",
            "2       102.0   67.0         37.0           28.0          14.0  3375.0   \n",
            "3       106.0    NaN         37.0           31.0          17.0  3405.0   \n",
            "4       109.0   69.0         39.0           27.0          13.0  3640.0   \n",
            "..        ...    ...          ...            ...           ...     ...   \n",
            "88      115.0   72.0         38.0           34.0           NaN  3960.0   \n",
            "89      103.0   67.0         35.0           31.5          14.0  2985.0   \n",
            "90       97.0   66.0         36.0           26.0          15.0  2810.0   \n",
            "91      104.0   67.0         37.0           29.5          14.0  2985.0   \n",
            "92      105.0   69.0         38.0           30.0          15.0  3245.0   \n",
            "\n",
            "     Origin                Make  \n",
            "0   non-USA       Acura Integra  \n",
            "1   non-USA        Acura Legend  \n",
            "2   non-USA             Audi 90  \n",
            "3   non-USA            Audi 100  \n",
            "4   non-USA            BMW 535i  \n",
            "..      ...                 ...  \n",
            "88      NaN  Volkswagen Eurovan  \n",
            "89  non-USA   Volkswagen Passat  \n",
            "90  non-USA  Volkswagen Corrado  \n",
            "91  non-USA           Volvo 240  \n",
            "92  non-USA           Volvo 850  \n",
            "\n",
            "[93 rows x 27 columns]\n"
          ]
        }
      ]
    },
    {
      "cell_type": "markdown",
      "source": [
        "3. How to get the rows of a dataframe with row sum > 100?\n",
        "df=pd.DataFrame(np.random.randint(10, 40, 60).reshape(-1, 4))"
      ],
      "metadata": {
        "id": "gV8Fi7LQwqcc"
      }
    },
    {
      "cell_type": "code",
      "source": [
        "df = pd.DataFrame(np.random.randint(10, 40, 60).reshape(-1, 4))\n",
        "\n",
        "row_sums = df.sum(axis=1)\n",
        "\n",
        "result = df[row_sums > 100]\n",
        "\n",
        "print(result)\n"
      ],
      "metadata": {
        "colab": {
          "base_uri": "https://localhost:8080/"
        },
        "id": "1JDaBsNqwx7W",
        "outputId": "9a88ecca-acc1-4fe4-ad35-717b7a3f91ba"
      },
      "execution_count": 7,
      "outputs": [
        {
          "output_type": "stream",
          "name": "stdout",
          "text": [
            "     0   1   2   3\n",
            "3   28  22  15  38\n",
            "6   20  31  37  32\n",
            "8   35  17  29  20\n",
            "13  11  34  28  39\n",
            "14  30  13  29  32\n"
          ]
        }
      ]
    }
  ]
}